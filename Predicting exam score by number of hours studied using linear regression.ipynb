{
 "cells": [
  {
   "cell_type": "code",
   "execution_count": 1,
   "metadata": {},
   "outputs": [
    {
     "name": "stdout",
     "output_type": "stream",
     "text": [
      "Predicted Exam Score for 0 hours of study: 30.264702359564026\n"
     ]
    }
   ],
   "source": [
    "import numpy as np\n",
    "import pandas as pd\n",
    "\n",
    "from sklearn.model_selection import train_test_split\n",
    "from sklearn.linear_model import LinearRegression\n",
    "\n",
    "\n",
    "# Define the data\n",
    "hours_studied = np.array([2, 3, 4, 5, 6, 7.5, 4.4, 1]).reshape(-1, 1)\n",
    "exam_scores = np.array([50, 65, 75, 80, 90, 95, 78, 30])\n",
    "\n",
    "# Create a linear regression model\n",
    "model = LinearRegression()\n",
    "\n",
    "# Train the model\n",
    "model.fit(hours_studied, exam_scores)\n",
    "\n",
    "# Make predictions\n",
    "new_hours = np.array([[0]])  # Predict the score for 0 hours of study\n",
    "predicted_score = model.predict(new_hours)\n",
    "\n",
    "# Print the result\n",
    "print(f'Predicted Exam Score for 0 hours of study: {predicted_score[0]}')"
   ]
  }
 ],
 "metadata": {
  "kernelspec": {
   "display_name": "base",
   "language": "python",
   "name": "python3"
  },
  "language_info": {
   "codemirror_mode": {
    "name": "ipython",
    "version": 3
   },
   "file_extension": ".py",
   "mimetype": "text/x-python",
   "name": "python",
   "nbconvert_exporter": "python",
   "pygments_lexer": "ipython3",
   "version": "3.11.5"
  }
 },
 "nbformat": 4,
 "nbformat_minor": 2
}
